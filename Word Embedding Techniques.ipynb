{
  "cells": [
    {
      "cell_type": "markdown",
      "metadata": {
        "id": "eHNf7J680XF-"
      },
      "source": [
        "### Word Embedding Techniques Using Embedding Layer in Keras"
      ]
    },
    {
      "cell_type": "code",
      "execution_count": 1,
      "metadata": {
        "id": "PEsK0_yl0XGB"
      },
      "outputs": [],
      "source": [
        "### Libraries Used Tensorflow > 2.0  And Keras"
      ]
    },
    {
      "cell_type": "code",
      "execution_count": 2,
      "metadata": {
        "colab": {
          "base_uri": "https://localhost:8080/"
        },
        "id": "pslw1Ya90XGC",
        "outputId": "fb1ec2f9-287a-41ce-9a9f-37ea6483342e"
      },
      "outputs": [
        {
          "output_type": "stream",
          "name": "stdout",
          "text": [
            "Requirement already satisfied: tensorflow in /usr/local/lib/python3.10/dist-packages (2.15.0)\n",
            "Requirement already satisfied: absl-py>=1.0.0 in /usr/local/lib/python3.10/dist-packages (from tensorflow) (1.4.0)\n",
            "Requirement already satisfied: astunparse>=1.6.0 in /usr/local/lib/python3.10/dist-packages (from tensorflow) (1.6.3)\n",
            "Requirement already satisfied: flatbuffers>=23.5.26 in /usr/local/lib/python3.10/dist-packages (from tensorflow) (23.5.26)\n",
            "Requirement already satisfied: gast!=0.5.0,!=0.5.1,!=0.5.2,>=0.2.1 in /usr/local/lib/python3.10/dist-packages (from tensorflow) (0.5.4)\n",
            "Requirement already satisfied: google-pasta>=0.1.1 in /usr/local/lib/python3.10/dist-packages (from tensorflow) (0.2.0)\n",
            "Requirement already satisfied: h5py>=2.9.0 in /usr/local/lib/python3.10/dist-packages (from tensorflow) (3.9.0)\n",
            "Requirement already satisfied: libclang>=13.0.0 in /usr/local/lib/python3.10/dist-packages (from tensorflow) (16.0.6)\n",
            "Requirement already satisfied: ml-dtypes~=0.2.0 in /usr/local/lib/python3.10/dist-packages (from tensorflow) (0.2.0)\n",
            "Requirement already satisfied: numpy<2.0.0,>=1.23.5 in /usr/local/lib/python3.10/dist-packages (from tensorflow) (1.23.5)\n",
            "Requirement already satisfied: opt-einsum>=2.3.2 in /usr/local/lib/python3.10/dist-packages (from tensorflow) (3.3.0)\n",
            "Requirement already satisfied: packaging in /usr/local/lib/python3.10/dist-packages (from tensorflow) (23.2)\n",
            "Requirement already satisfied: protobuf!=4.21.0,!=4.21.1,!=4.21.2,!=4.21.3,!=4.21.4,!=4.21.5,<5.0.0dev,>=3.20.3 in /usr/local/lib/python3.10/dist-packages (from tensorflow) (3.20.3)\n",
            "Requirement already satisfied: setuptools in /usr/local/lib/python3.10/dist-packages (from tensorflow) (67.7.2)\n",
            "Requirement already satisfied: six>=1.12.0 in /usr/local/lib/python3.10/dist-packages (from tensorflow) (1.16.0)\n",
            "Requirement already satisfied: termcolor>=1.1.0 in /usr/local/lib/python3.10/dist-packages (from tensorflow) (2.4.0)\n",
            "Requirement already satisfied: typing-extensions>=3.6.6 in /usr/local/lib/python3.10/dist-packages (from tensorflow) (4.5.0)\n",
            "Requirement already satisfied: wrapt<1.15,>=1.11.0 in /usr/local/lib/python3.10/dist-packages (from tensorflow) (1.14.1)\n",
            "Requirement already satisfied: tensorflow-io-gcs-filesystem>=0.23.1 in /usr/local/lib/python3.10/dist-packages (from tensorflow) (0.34.0)\n",
            "Requirement already satisfied: grpcio<2.0,>=1.24.3 in /usr/local/lib/python3.10/dist-packages (from tensorflow) (1.60.0)\n",
            "Requirement already satisfied: tensorboard<2.16,>=2.15 in /usr/local/lib/python3.10/dist-packages (from tensorflow) (2.15.1)\n",
            "Requirement already satisfied: tensorflow-estimator<2.16,>=2.15.0 in /usr/local/lib/python3.10/dist-packages (from tensorflow) (2.15.0)\n",
            "Requirement already satisfied: keras<2.16,>=2.15.0 in /usr/local/lib/python3.10/dist-packages (from tensorflow) (2.15.0)\n",
            "Requirement already satisfied: wheel<1.0,>=0.23.0 in /usr/local/lib/python3.10/dist-packages (from astunparse>=1.6.0->tensorflow) (0.42.0)\n",
            "Requirement already satisfied: google-auth<3,>=1.6.3 in /usr/local/lib/python3.10/dist-packages (from tensorboard<2.16,>=2.15->tensorflow) (2.17.3)\n",
            "Requirement already satisfied: google-auth-oauthlib<2,>=0.5 in /usr/local/lib/python3.10/dist-packages (from tensorboard<2.16,>=2.15->tensorflow) (1.2.0)\n",
            "Requirement already satisfied: markdown>=2.6.8 in /usr/local/lib/python3.10/dist-packages (from tensorboard<2.16,>=2.15->tensorflow) (3.5.1)\n",
            "Requirement already satisfied: requests<3,>=2.21.0 in /usr/local/lib/python3.10/dist-packages (from tensorboard<2.16,>=2.15->tensorflow) (2.31.0)\n",
            "Requirement already satisfied: tensorboard-data-server<0.8.0,>=0.7.0 in /usr/local/lib/python3.10/dist-packages (from tensorboard<2.16,>=2.15->tensorflow) (0.7.2)\n",
            "Requirement already satisfied: werkzeug>=1.0.1 in /usr/local/lib/python3.10/dist-packages (from tensorboard<2.16,>=2.15->tensorflow) (3.0.1)\n",
            "Requirement already satisfied: cachetools<6.0,>=2.0.0 in /usr/local/lib/python3.10/dist-packages (from google-auth<3,>=1.6.3->tensorboard<2.16,>=2.15->tensorflow) (5.3.2)\n",
            "Requirement already satisfied: pyasn1-modules>=0.2.1 in /usr/local/lib/python3.10/dist-packages (from google-auth<3,>=1.6.3->tensorboard<2.16,>=2.15->tensorflow) (0.3.0)\n",
            "Requirement already satisfied: rsa<5,>=3.1.4 in /usr/local/lib/python3.10/dist-packages (from google-auth<3,>=1.6.3->tensorboard<2.16,>=2.15->tensorflow) (4.9)\n",
            "Requirement already satisfied: requests-oauthlib>=0.7.0 in /usr/local/lib/python3.10/dist-packages (from google-auth-oauthlib<2,>=0.5->tensorboard<2.16,>=2.15->tensorflow) (1.3.1)\n",
            "Requirement already satisfied: charset-normalizer<4,>=2 in /usr/local/lib/python3.10/dist-packages (from requests<3,>=2.21.0->tensorboard<2.16,>=2.15->tensorflow) (3.3.2)\n",
            "Requirement already satisfied: idna<4,>=2.5 in /usr/local/lib/python3.10/dist-packages (from requests<3,>=2.21.0->tensorboard<2.16,>=2.15->tensorflow) (3.6)\n",
            "Requirement already satisfied: urllib3<3,>=1.21.1 in /usr/local/lib/python3.10/dist-packages (from requests<3,>=2.21.0->tensorboard<2.16,>=2.15->tensorflow) (2.0.7)\n",
            "Requirement already satisfied: certifi>=2017.4.17 in /usr/local/lib/python3.10/dist-packages (from requests<3,>=2.21.0->tensorboard<2.16,>=2.15->tensorflow) (2023.11.17)\n",
            "Requirement already satisfied: MarkupSafe>=2.1.1 in /usr/local/lib/python3.10/dist-packages (from werkzeug>=1.0.1->tensorboard<2.16,>=2.15->tensorflow) (2.1.3)\n",
            "Requirement already satisfied: pyasn1<0.6.0,>=0.4.6 in /usr/local/lib/python3.10/dist-packages (from pyasn1-modules>=0.2.1->google-auth<3,>=1.6.3->tensorboard<2.16,>=2.15->tensorflow) (0.5.1)\n",
            "Requirement already satisfied: oauthlib>=3.0.0 in /usr/local/lib/python3.10/dist-packages (from requests-oauthlib>=0.7.0->google-auth-oauthlib<2,>=0.5->tensorboard<2.16,>=2.15->tensorflow) (3.2.2)\n"
          ]
        }
      ],
      "source": [
        "!pip install tensorflow"
      ]
    },
    {
      "cell_type": "code",
      "source": [
        "import tensorflow as tf\n",
        "print(tf.__version__)"
      ],
      "metadata": {
        "colab": {
          "base_uri": "https://localhost:8080/"
        },
        "id": "yZ5hceiMAX7n",
        "outputId": "b5c7d80e-5c63-4494-e6dc-0d5e33ca0082"
      },
      "execution_count": 3,
      "outputs": [
        {
          "output_type": "stream",
          "name": "stdout",
          "text": [
            "2.15.0\n"
          ]
        }
      ]
    },
    {
      "cell_type": "code",
      "execution_count": 4,
      "metadata": {
        "id": "k4nKifUl0XGC"
      },
      "outputs": [],
      "source": [
        "## Tensorflow > 2.0\n",
        "from tensorflow.keras.preprocessing.text import one_hot"
      ]
    },
    {
      "cell_type": "code",
      "execution_count": 5,
      "metadata": {
        "id": "Fu9PuYeu0XGD"
      },
      "outputs": [],
      "source": [
        "### Sentences\n",
        "sent=[  'the glass of milk',\n",
        "     'the glass of juice',\n",
        "     'the cup of tea',\n",
        "    'I am a good boy',\n",
        "     'I am a good developer',\n",
        "     'understand the meaning of words',\n",
        "     'your videos are good']"
      ]
    },
    {
      "cell_type": "code",
      "execution_count": 6,
      "metadata": {
        "colab": {
          "base_uri": "https://localhost:8080/"
        },
        "id": "x5d1D3_20XGD",
        "outputId": "334ef36b-d84e-4dfa-cb2a-552974f09539"
      },
      "outputs": [
        {
          "output_type": "execute_result",
          "data": {
            "text/plain": [
              "['the glass of milk',\n",
              " 'the glass of juice',\n",
              " 'the cup of tea',\n",
              " 'I am a good boy',\n",
              " 'I am a good developer',\n",
              " 'understand the meaning of words',\n",
              " 'your videos are good']"
            ]
          },
          "metadata": {},
          "execution_count": 6
        }
      ],
      "source": [
        "sent"
      ]
    },
    {
      "cell_type": "code",
      "execution_count": 7,
      "metadata": {
        "id": "tjnXIn3B0XGE"
      },
      "outputs": [],
      "source": [
        "### Vocabulary Size\n",
        "voc_size=500"
      ]
    },
    {
      "cell_type": "markdown",
      "metadata": {
        "id": "-vQOdeKk0XGE"
      },
      "source": [
        "#### One Hot Representation"
      ]
    },
    {
      "cell_type": "code",
      "execution_count": 8,
      "metadata": {
        "colab": {
          "base_uri": "https://localhost:8080/"
        },
        "id": "gojfZpAW0XGE",
        "outputId": "f2942f56-aa21-48da-979c-17c1e95fcf64"
      },
      "outputs": [
        {
          "output_type": "stream",
          "name": "stdout",
          "text": [
            "[[68, 446, 93, 65], [68, 446, 93, 207], [68, 216, 93, 454], [59, 367, 455, 285, 459], [59, 367, 455, 285, 338], [298, 68, 107, 93, 349], [356, 275, 282, 285]]\n"
          ]
        }
      ],
      "source": [
        "onehot_repr=[one_hot(words,voc_size)for words in sent]\n",
        "print(onehot_repr)"
      ]
    },
    {
      "cell_type": "markdown",
      "metadata": {
        "id": "eYG267x40XGF"
      },
      "source": [
        "### Word Embedding Represntation\n"
      ]
    },
    {
      "cell_type": "code",
      "execution_count": 9,
      "metadata": {
        "id": "wpqPm0tb0XGF"
      },
      "outputs": [],
      "source": [
        "from tensorflow.keras.layers import Embedding\n",
        "from tensorflow.keras.preprocessing.sequence import pad_sequences\n",
        "from tensorflow.keras.models import Sequential"
      ]
    },
    {
      "cell_type": "code",
      "execution_count": 10,
      "metadata": {
        "id": "Rov3GTM00XGG"
      },
      "outputs": [],
      "source": [
        "import numpy as np"
      ]
    },
    {
      "cell_type": "code",
      "execution_count": 11,
      "metadata": {
        "colab": {
          "base_uri": "https://localhost:8080/"
        },
        "id": "8fQLPw6p0XGG",
        "outputId": "abc9ed3a-1ede-4eb7-c614-6ea51acf0db9"
      },
      "outputs": [
        {
          "output_type": "stream",
          "name": "stdout",
          "text": [
            "[[  0   0   0   0  68 446  93  65]\n",
            " [  0   0   0   0  68 446  93 207]\n",
            " [  0   0   0   0  68 216  93 454]\n",
            " [  0   0   0  59 367 455 285 459]\n",
            " [  0   0   0  59 367 455 285 338]\n",
            " [  0   0   0 298  68 107  93 349]\n",
            " [  0   0   0   0 356 275 282 285]]\n"
          ]
        }
      ],
      "source": [
        "## Pre Padding\n",
        "sent_length=8\n",
        "embedded_docs=pad_sequences(onehot_repr,padding='pre',maxlen=sent_length)\n",
        "print(embedded_docs)"
      ]
    },
    {
      "cell_type": "code",
      "execution_count": 12,
      "metadata": {
        "id": "yjQqBYac0XGG"
      },
      "outputs": [],
      "source": [
        "## 10 Feature Dimesnions\n",
        "dim=10\n"
      ]
    },
    {
      "cell_type": "code",
      "execution_count": 13,
      "metadata": {
        "id": "ozC-TXrt0XGG"
      },
      "outputs": [],
      "source": [
        "model=Sequential()\n",
        "model.add(Embedding(voc_size,10,input_length=sent_length))\n",
        "model.compile('adam','mse')"
      ]
    },
    {
      "cell_type": "code",
      "execution_count": 14,
      "metadata": {
        "colab": {
          "base_uri": "https://localhost:8080/"
        },
        "id": "tMNvq-Ji0XGH",
        "outputId": "a2611d86-91c9-4855-934f-b175758425d6"
      },
      "outputs": [
        {
          "output_type": "stream",
          "name": "stdout",
          "text": [
            "Model: \"sequential\"\n",
            "_________________________________________________________________\n",
            " Layer (type)                Output Shape              Param #   \n",
            "=================================================================\n",
            " embedding (Embedding)       (None, 8, 10)             5000      \n",
            "                                                                 \n",
            "=================================================================\n",
            "Total params: 5000 (19.53 KB)\n",
            "Trainable params: 5000 (19.53 KB)\n",
            "Non-trainable params: 0 (0.00 Byte)\n",
            "_________________________________________________________________\n"
          ]
        }
      ],
      "source": [
        "model.summary()"
      ]
    },
    {
      "cell_type": "code",
      "source": [
        "## The Glass Of Milk\n",
        "embedded_docs[0]"
      ],
      "metadata": {
        "colab": {
          "base_uri": "https://localhost:8080/"
        },
        "id": "FC4Ess_FEcb3",
        "outputId": "e1069ad9-b2f0-4088-ed89-fd56bb5b57dc"
      },
      "execution_count": 15,
      "outputs": [
        {
          "output_type": "execute_result",
          "data": {
            "text/plain": [
              "array([  0,   0,   0,   0,  68, 446,  93,  65], dtype=int32)"
            ]
          },
          "metadata": {},
          "execution_count": 15
        }
      ]
    },
    {
      "cell_type": "code",
      "source": [
        "model.predict(embedded_docs[0])"
      ],
      "metadata": {
        "colab": {
          "base_uri": "https://localhost:8080/"
        },
        "id": "bRqEvMBYEZUS",
        "outputId": "bc78171d-afb0-482c-8b49-035ae696693a"
      },
      "execution_count": 16,
      "outputs": [
        {
          "output_type": "stream",
          "name": "stdout",
          "text": [
            "1/1 [==============================] - 0s 156ms/step\n"
          ]
        },
        {
          "output_type": "execute_result",
          "data": {
            "text/plain": [
              "array([[-0.03285917, -0.01071604,  0.04337063, -0.04456924,  0.023231  ,\n",
              "         0.02965771,  0.02876272, -0.0335905 ,  0.02507508, -0.01797796],\n",
              "       [-0.03285917, -0.01071604,  0.04337063, -0.04456924,  0.023231  ,\n",
              "         0.02965771,  0.02876272, -0.0335905 ,  0.02507508, -0.01797796],\n",
              "       [-0.03285917, -0.01071604,  0.04337063, -0.04456924,  0.023231  ,\n",
              "         0.02965771,  0.02876272, -0.0335905 ,  0.02507508, -0.01797796],\n",
              "       [-0.03285917, -0.01071604,  0.04337063, -0.04456924,  0.023231  ,\n",
              "         0.02965771,  0.02876272, -0.0335905 ,  0.02507508, -0.01797796],\n",
              "       [ 0.0222127 , -0.03521409,  0.03195692,  0.0416865 ,  0.02943147,\n",
              "        -0.04034848,  0.02372215, -0.04441262,  0.03982383,  0.01368221],\n",
              "       [ 0.04976866, -0.02734314,  0.03546312,  0.02486147, -0.01523743,\n",
              "         0.02719792,  0.01175623,  0.03218348,  0.01464096, -0.04804164],\n",
              "       [ 0.04746863,  0.02674795,  0.00238603,  0.02999457,  0.02496218,\n",
              "        -0.04948087, -0.02326794,  0.0498547 ,  0.04016386, -0.00791305],\n",
              "       [ 0.03008466, -0.02345058, -0.04043547,  0.02634803, -0.01867909,\n",
              "         0.03007013, -0.02919128, -0.02180421,  0.01290277,  0.01024579]],\n",
              "      dtype=float32)"
            ]
          },
          "metadata": {},
          "execution_count": 16
        }
      ]
    },
    {
      "cell_type": "code",
      "execution_count": 17,
      "metadata": {
        "colab": {
          "base_uri": "https://localhost:8080/"
        },
        "id": "kzKP69gx0XGH",
        "outputId": "593a15f7-e3bb-4e30-fc53-a0a487565015"
      },
      "outputs": [
        {
          "output_type": "stream",
          "name": "stdout",
          "text": [
            "1/1 [==============================] - 0s 39ms/step\n",
            "[[[-3.28591689e-02 -1.07160434e-02  4.33706306e-02 -4.45692427e-02\n",
            "    2.32309960e-02  2.96577103e-02  2.87627243e-02 -3.35904956e-02\n",
            "    2.50750817e-02 -1.79779641e-02]\n",
            "  [-3.28591689e-02 -1.07160434e-02  4.33706306e-02 -4.45692427e-02\n",
            "    2.32309960e-02  2.96577103e-02  2.87627243e-02 -3.35904956e-02\n",
            "    2.50750817e-02 -1.79779641e-02]\n",
            "  [-3.28591689e-02 -1.07160434e-02  4.33706306e-02 -4.45692427e-02\n",
            "    2.32309960e-02  2.96577103e-02  2.87627243e-02 -3.35904956e-02\n",
            "    2.50750817e-02 -1.79779641e-02]\n",
            "  [-3.28591689e-02 -1.07160434e-02  4.33706306e-02 -4.45692427e-02\n",
            "    2.32309960e-02  2.96577103e-02  2.87627243e-02 -3.35904956e-02\n",
            "    2.50750817e-02 -1.79779641e-02]\n",
            "  [ 2.22126953e-02 -3.52140889e-02  3.19569223e-02  4.16865014e-02\n",
            "    2.94314735e-02 -4.03484814e-02  2.37221457e-02 -4.44126241e-02\n",
            "    3.98238339e-02  1.36822127e-02]\n",
            "  [ 4.97686602e-02 -2.73431428e-02  3.54631208e-02  2.48614661e-02\n",
            "   -1.52374282e-02  2.71979235e-02  1.17562301e-02  3.21834795e-02\n",
            "    1.46409608e-02 -4.80416417e-02]\n",
            "  [ 4.74686287e-02  2.67479531e-02  2.38603354e-03  2.99945734e-02\n",
            "    2.49621756e-02 -4.94808666e-02 -2.32679378e-02  4.98546995e-02\n",
            "    4.01638635e-02 -7.91305304e-03]\n",
            "  [ 3.00846584e-02 -2.34505776e-02 -4.04354706e-02  2.63480283e-02\n",
            "   -1.86790936e-02  3.00701298e-02 -2.91912798e-02 -2.18042135e-02\n",
            "    1.29027702e-02  1.02457888e-02]]\n",
            "\n",
            " [[-3.28591689e-02 -1.07160434e-02  4.33706306e-02 -4.45692427e-02\n",
            "    2.32309960e-02  2.96577103e-02  2.87627243e-02 -3.35904956e-02\n",
            "    2.50750817e-02 -1.79779641e-02]\n",
            "  [-3.28591689e-02 -1.07160434e-02  4.33706306e-02 -4.45692427e-02\n",
            "    2.32309960e-02  2.96577103e-02  2.87627243e-02 -3.35904956e-02\n",
            "    2.50750817e-02 -1.79779641e-02]\n",
            "  [-3.28591689e-02 -1.07160434e-02  4.33706306e-02 -4.45692427e-02\n",
            "    2.32309960e-02  2.96577103e-02  2.87627243e-02 -3.35904956e-02\n",
            "    2.50750817e-02 -1.79779641e-02]\n",
            "  [-3.28591689e-02 -1.07160434e-02  4.33706306e-02 -4.45692427e-02\n",
            "    2.32309960e-02  2.96577103e-02  2.87627243e-02 -3.35904956e-02\n",
            "    2.50750817e-02 -1.79779641e-02]\n",
            "  [ 2.22126953e-02 -3.52140889e-02  3.19569223e-02  4.16865014e-02\n",
            "    2.94314735e-02 -4.03484814e-02  2.37221457e-02 -4.44126241e-02\n",
            "    3.98238339e-02  1.36822127e-02]\n",
            "  [ 4.97686602e-02 -2.73431428e-02  3.54631208e-02  2.48614661e-02\n",
            "   -1.52374282e-02  2.71979235e-02  1.17562301e-02  3.21834795e-02\n",
            "    1.46409608e-02 -4.80416417e-02]\n",
            "  [ 4.74686287e-02  2.67479531e-02  2.38603354e-03  2.99945734e-02\n",
            "    2.49621756e-02 -4.94808666e-02 -2.32679378e-02  4.98546995e-02\n",
            "    4.01638635e-02 -7.91305304e-03]\n",
            "  [-4.33452018e-02  4.31227125e-02  2.98096649e-02  4.58015092e-02\n",
            "    4.45477851e-02  3.49408649e-02 -2.13045366e-02 -3.26016173e-02\n",
            "    1.97966732e-02  1.37809999e-02]]\n",
            "\n",
            " [[-3.28591689e-02 -1.07160434e-02  4.33706306e-02 -4.45692427e-02\n",
            "    2.32309960e-02  2.96577103e-02  2.87627243e-02 -3.35904956e-02\n",
            "    2.50750817e-02 -1.79779641e-02]\n",
            "  [-3.28591689e-02 -1.07160434e-02  4.33706306e-02 -4.45692427e-02\n",
            "    2.32309960e-02  2.96577103e-02  2.87627243e-02 -3.35904956e-02\n",
            "    2.50750817e-02 -1.79779641e-02]\n",
            "  [-3.28591689e-02 -1.07160434e-02  4.33706306e-02 -4.45692427e-02\n",
            "    2.32309960e-02  2.96577103e-02  2.87627243e-02 -3.35904956e-02\n",
            "    2.50750817e-02 -1.79779641e-02]\n",
            "  [-3.28591689e-02 -1.07160434e-02  4.33706306e-02 -4.45692427e-02\n",
            "    2.32309960e-02  2.96577103e-02  2.87627243e-02 -3.35904956e-02\n",
            "    2.50750817e-02 -1.79779641e-02]\n",
            "  [ 2.22126953e-02 -3.52140889e-02  3.19569223e-02  4.16865014e-02\n",
            "    2.94314735e-02 -4.03484814e-02  2.37221457e-02 -4.44126241e-02\n",
            "    3.98238339e-02  1.36822127e-02]\n",
            "  [-2.93034799e-02  2.65814774e-02  5.56607172e-03 -1.95741411e-02\n",
            "    2.09010355e-02 -4.63704020e-03  4.88091633e-03 -6.38543442e-03\n",
            "   -8.73644277e-03  2.54544355e-02]\n",
            "  [ 4.74686287e-02  2.67479531e-02  2.38603354e-03  2.99945734e-02\n",
            "    2.49621756e-02 -4.94808666e-02 -2.32679378e-02  4.98546995e-02\n",
            "    4.01638635e-02 -7.91305304e-03]\n",
            "  [-2.31331233e-02  2.62811221e-02 -4.12028208e-02 -3.86574492e-02\n",
            "    2.75908373e-02  2.28125118e-02  1.74471177e-02  1.64786093e-02\n",
            "   -1.17732063e-02 -2.92606354e-02]]\n",
            "\n",
            " [[-3.28591689e-02 -1.07160434e-02  4.33706306e-02 -4.45692427e-02\n",
            "    2.32309960e-02  2.96577103e-02  2.87627243e-02 -3.35904956e-02\n",
            "    2.50750817e-02 -1.79779641e-02]\n",
            "  [-3.28591689e-02 -1.07160434e-02  4.33706306e-02 -4.45692427e-02\n",
            "    2.32309960e-02  2.96577103e-02  2.87627243e-02 -3.35904956e-02\n",
            "    2.50750817e-02 -1.79779641e-02]\n",
            "  [-3.28591689e-02 -1.07160434e-02  4.33706306e-02 -4.45692427e-02\n",
            "    2.32309960e-02  2.96577103e-02  2.87627243e-02 -3.35904956e-02\n",
            "    2.50750817e-02 -1.79779641e-02]\n",
            "  [-9.33311135e-03  2.72788666e-02 -2.08621975e-02 -2.41747256e-02\n",
            "   -6.10015541e-03  4.90993522e-02 -2.77077910e-02  3.06350477e-02\n",
            "   -1.39828213e-02 -4.91514914e-02]\n",
            "  [-2.72994768e-02  1.77934207e-02 -2.03704592e-02  1.93401314e-02\n",
            "   -1.63469426e-02 -4.03438918e-02 -7.87943602e-03  2.51937024e-02\n",
            "    2.25528590e-02 -4.63311449e-02]\n",
            "  [-2.29471810e-02 -1.39711015e-02  3.19350697e-02 -3.50825675e-02\n",
            "   -1.29915588e-02  3.98494042e-02 -3.35948244e-02 -2.56817937e-02\n",
            "   -3.57283279e-03  3.84229906e-02]\n",
            "  [ 9.94995981e-03  3.61070521e-02 -2.03957912e-02  5.93781471e-03\n",
            "    1.98106207e-02 -4.34377305e-02  3.00789215e-02 -1.79392807e-02\n",
            "   -1.08825043e-03  4.42677736e-03]\n",
            "  [ 2.41664536e-02  1.76622719e-03  4.17019390e-02  1.22805350e-02\n",
            "    4.65254076e-02  2.14917921e-02 -1.61721706e-02  1.80825591e-05\n",
            "   -2.66436934e-02 -4.83614095e-02]]\n",
            "\n",
            " [[-3.28591689e-02 -1.07160434e-02  4.33706306e-02 -4.45692427e-02\n",
            "    2.32309960e-02  2.96577103e-02  2.87627243e-02 -3.35904956e-02\n",
            "    2.50750817e-02 -1.79779641e-02]\n",
            "  [-3.28591689e-02 -1.07160434e-02  4.33706306e-02 -4.45692427e-02\n",
            "    2.32309960e-02  2.96577103e-02  2.87627243e-02 -3.35904956e-02\n",
            "    2.50750817e-02 -1.79779641e-02]\n",
            "  [-3.28591689e-02 -1.07160434e-02  4.33706306e-02 -4.45692427e-02\n",
            "    2.32309960e-02  2.96577103e-02  2.87627243e-02 -3.35904956e-02\n",
            "    2.50750817e-02 -1.79779641e-02]\n",
            "  [-9.33311135e-03  2.72788666e-02 -2.08621975e-02 -2.41747256e-02\n",
            "   -6.10015541e-03  4.90993522e-02 -2.77077910e-02  3.06350477e-02\n",
            "   -1.39828213e-02 -4.91514914e-02]\n",
            "  [-2.72994768e-02  1.77934207e-02 -2.03704592e-02  1.93401314e-02\n",
            "   -1.63469426e-02 -4.03438918e-02 -7.87943602e-03  2.51937024e-02\n",
            "    2.25528590e-02 -4.63311449e-02]\n",
            "  [-2.29471810e-02 -1.39711015e-02  3.19350697e-02 -3.50825675e-02\n",
            "   -1.29915588e-02  3.98494042e-02 -3.35948244e-02 -2.56817937e-02\n",
            "   -3.57283279e-03  3.84229906e-02]\n",
            "  [ 9.94995981e-03  3.61070521e-02 -2.03957912e-02  5.93781471e-03\n",
            "    1.98106207e-02 -4.34377305e-02  3.00789215e-02 -1.79392807e-02\n",
            "   -1.08825043e-03  4.42677736e-03]\n",
            "  [ 9.77575779e-03  3.27515341e-02  3.52586769e-02  8.35403055e-03\n",
            "   -2.71699317e-02  3.49780433e-02 -5.33092767e-04  1.82264112e-02\n",
            "   -4.16895747e-02  2.94661857e-02]]\n",
            "\n",
            " [[-3.28591689e-02 -1.07160434e-02  4.33706306e-02 -4.45692427e-02\n",
            "    2.32309960e-02  2.96577103e-02  2.87627243e-02 -3.35904956e-02\n",
            "    2.50750817e-02 -1.79779641e-02]\n",
            "  [-3.28591689e-02 -1.07160434e-02  4.33706306e-02 -4.45692427e-02\n",
            "    2.32309960e-02  2.96577103e-02  2.87627243e-02 -3.35904956e-02\n",
            "    2.50750817e-02 -1.79779641e-02]\n",
            "  [-3.28591689e-02 -1.07160434e-02  4.33706306e-02 -4.45692427e-02\n",
            "    2.32309960e-02  2.96577103e-02  2.87627243e-02 -3.35904956e-02\n",
            "    2.50750817e-02 -1.79779641e-02]\n",
            "  [ 4.06965874e-02 -3.17961723e-02  5.05634397e-03 -6.13075495e-03\n",
            "    3.19570415e-02  1.78394653e-02 -4.48073633e-02 -1.14331841e-02\n",
            "   -3.24847586e-02  1.51649863e-03]\n",
            "  [ 2.22126953e-02 -3.52140889e-02  3.19569223e-02  4.16865014e-02\n",
            "    2.94314735e-02 -4.03484814e-02  2.37221457e-02 -4.44126241e-02\n",
            "    3.98238339e-02  1.36822127e-02]\n",
            "  [-8.70722532e-03 -3.38654146e-02 -4.74846363e-02 -4.88427989e-02\n",
            "   -2.24609859e-02 -3.76126990e-02 -5.28894365e-04  4.36821468e-02\n",
            "   -4.14185412e-02  3.84114683e-04]\n",
            "  [ 4.74686287e-02  2.67479531e-02  2.38603354e-03  2.99945734e-02\n",
            "    2.49621756e-02 -4.94808666e-02 -2.32679378e-02  4.98546995e-02\n",
            "    4.01638635e-02 -7.91305304e-03]\n",
            "  [-3.16774249e-02 -2.16515306e-02 -3.38511951e-02  8.50573927e-03\n",
            "    2.88787745e-02 -2.78184172e-02  2.37710774e-05 -1.79591067e-02\n",
            "    3.79340537e-02  2.91255973e-02]]\n",
            "\n",
            " [[-3.28591689e-02 -1.07160434e-02  4.33706306e-02 -4.45692427e-02\n",
            "    2.32309960e-02  2.96577103e-02  2.87627243e-02 -3.35904956e-02\n",
            "    2.50750817e-02 -1.79779641e-02]\n",
            "  [-3.28591689e-02 -1.07160434e-02  4.33706306e-02 -4.45692427e-02\n",
            "    2.32309960e-02  2.96577103e-02  2.87627243e-02 -3.35904956e-02\n",
            "    2.50750817e-02 -1.79779641e-02]\n",
            "  [-3.28591689e-02 -1.07160434e-02  4.33706306e-02 -4.45692427e-02\n",
            "    2.32309960e-02  2.96577103e-02  2.87627243e-02 -3.35904956e-02\n",
            "    2.50750817e-02 -1.79779641e-02]\n",
            "  [-3.28591689e-02 -1.07160434e-02  4.33706306e-02 -4.45692427e-02\n",
            "    2.32309960e-02  2.96577103e-02  2.87627243e-02 -3.35904956e-02\n",
            "    2.50750817e-02 -1.79779641e-02]\n",
            "  [-2.44448911e-02  2.48180367e-02 -1.30985975e-02  3.94206084e-02\n",
            "    5.54532930e-03  4.82962392e-02 -3.08654457e-03 -3.92338037e-02\n",
            "   -1.44563094e-02  8.07188451e-04]\n",
            "  [ 1.25560500e-02 -4.14150953e-03 -3.62932198e-02  1.26066096e-02\n",
            "    3.07805650e-02 -1.50457844e-02 -4.11391482e-02 -2.07377672e-02\n",
            "    4.97222207e-02  3.05649899e-02]\n",
            "  [-9.60157067e-03  4.83911112e-03  2.08199956e-02  3.91244031e-02\n",
            "    4.29269113e-02 -4.85130660e-02 -3.39935049e-02  4.71069552e-02\n",
            "    3.09747122e-02 -1.70933120e-02]\n",
            "  [ 9.94995981e-03  3.61070521e-02 -2.03957912e-02  5.93781471e-03\n",
            "    1.98106207e-02 -4.34377305e-02  3.00789215e-02 -1.79392807e-02\n",
            "   -1.08825043e-03  4.42677736e-03]]]\n"
          ]
        }
      ],
      "source": [
        "print(model.predict(embedded_docs))"
      ]
    },
    {
      "cell_type": "code",
      "execution_count": 18,
      "metadata": {
        "id": "JuUxfk7d0XGH",
        "outputId": "bdafaac1-4e83-42cf-8435-604772a80128",
        "colab": {
          "base_uri": "https://localhost:8080/"
        }
      },
      "outputs": [
        {
          "output_type": "execute_result",
          "data": {
            "text/plain": [
              "array([  0,   0,   0,   0,  68, 446,  93,  65], dtype=int32)"
            ]
          },
          "metadata": {},
          "execution_count": 18
        }
      ],
      "source": [
        "embedded_docs[0]"
      ]
    },
    {
      "cell_type": "code",
      "execution_count": 19,
      "metadata": {
        "id": "6JJ_zD0u0XGH",
        "outputId": "331f0b7e-8b02-41a4-ddaa-0574dd7db058",
        "colab": {
          "base_uri": "https://localhost:8080/"
        }
      },
      "outputs": [
        {
          "output_type": "stream",
          "name": "stdout",
          "text": [
            "1/1 [==============================] - 0s 19ms/step\n",
            "[[-0.03285917 -0.01071604  0.04337063 -0.04456924  0.023231    0.02965771\n",
            "   0.02876272 -0.0335905   0.02507508 -0.01797796]\n",
            " [-0.03285917 -0.01071604  0.04337063 -0.04456924  0.023231    0.02965771\n",
            "   0.02876272 -0.0335905   0.02507508 -0.01797796]\n",
            " [-0.03285917 -0.01071604  0.04337063 -0.04456924  0.023231    0.02965771\n",
            "   0.02876272 -0.0335905   0.02507508 -0.01797796]\n",
            " [-0.03285917 -0.01071604  0.04337063 -0.04456924  0.023231    0.02965771\n",
            "   0.02876272 -0.0335905   0.02507508 -0.01797796]\n",
            " [ 0.0222127  -0.03521409  0.03195692  0.0416865   0.02943147 -0.04034848\n",
            "   0.02372215 -0.04441262  0.03982383  0.01368221]\n",
            " [ 0.04976866 -0.02734314  0.03546312  0.02486147 -0.01523743  0.02719792\n",
            "   0.01175623  0.03218348  0.01464096 -0.04804164]\n",
            " [ 0.04746863  0.02674795  0.00238603  0.02999457  0.02496218 -0.04948087\n",
            "  -0.02326794  0.0498547   0.04016386 -0.00791305]\n",
            " [ 0.03008466 -0.02345058 -0.04043547  0.02634803 -0.01867909  0.03007013\n",
            "  -0.02919128 -0.02180421  0.01290277  0.01024579]]\n"
          ]
        }
      ],
      "source": [
        "print(model.predict(embedded_docs)[0])"
      ]
    },
    {
      "cell_type": "code",
      "execution_count": 20,
      "metadata": {
        "id": "8OMu3iAz0XGH"
      },
      "outputs": [],
      "source": [
        "### Assignment\n"
      ]
    }
  ],
  "metadata": {
    "kernelspec": {
      "display_name": "Python 3",
      "language": "python",
      "name": "python3"
    },
    "language_info": {
      "codemirror_mode": {
        "name": "ipython",
        "version": 3
      },
      "file_extension": ".py",
      "mimetype": "text/x-python",
      "name": "python",
      "nbconvert_exporter": "python",
      "pygments_lexer": "ipython3",
      "version": "3.7.4"
    },
    "colab": {
      "provenance": []
    },
    "accelerator": "GPU",
    "gpuClass": "standard"
  },
  "nbformat": 4,
  "nbformat_minor": 0
}